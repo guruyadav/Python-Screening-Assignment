{
 "cells": [
  {
   "cell_type": "code",
   "execution_count": 1,
   "id": "c04025fb",
   "metadata": {},
   "outputs": [],
   "source": [
    "# 1. Create a function in python to read the text file and replace specific content of the file."
   ]
  },
  {
   "cell_type": "code",
   "execution_count": 2,
   "id": "ca33e9d9",
   "metadata": {},
   "outputs": [
    {
     "data": {
      "text/plain": [
       "'This is a screening assignment'"
      ]
     },
     "execution_count": 2,
     "metadata": {},
     "output_type": "execute_result"
    }
   ],
   "source": [
    "def replace_file():\n",
    "    \n",
    "    create_file = open('example.txt' ,'w') ## created example file ##\n",
    "    write_file = create_file.write(\"This is a placement assignment\") ## write text in created file ##\n",
    "    create_file.close()  ## to close file ##\n",
    "    \n",
    "    create_file= open('example.txt' ,'r') ## open a file in read mode ##\n",
    "    replacefile=create_file.read()        ## create a variabble for replace ##\n",
    "    content = replacefile.replace(\"placement\" , \"screening\")  ## enter replaced text & replacable text ##\n",
    "    create_file.close()  ## to close file ##   \n",
    "    \n",
    "    create_file= open('example.txt' ,'r+') ## open a file to in read/write mode ##\n",
    "    \n",
    "    create_file.write(content) ## to save output ##\n",
    "    \n",
    "    create_file.close()\n",
    "    \n",
    "    return  content\n",
    "\n",
    "# output fuction\n",
    "replace_file()"
   ]
  },
  {
   "cell_type": "code",
   "execution_count": 3,
   "id": "bc3653a9",
   "metadata": {},
   "outputs": [],
   "source": [
    "# 2. Demonstrate use of abstract class, multiple inheritance and decorator in python using examples."
   ]
  },
  {
   "cell_type": "code",
   "execution_count": 4,
   "id": "05b960c3",
   "metadata": {},
   "outputs": [],
   "source": [
    "#(i) Abstract_class:"
   ]
  },
  {
   "cell_type": "code",
   "execution_count": null,
   "id": "945b26de",
   "metadata": {},
   "outputs": [],
   "source": [
    "#  Abstract class is simply blue print for a class. Astract class allows the user to create a set of methods                  that must be created within any subclasses built from the abstract class, considering it as the main                        class\n",
    "#  A class that contains one or more abstract methods is called an abstract class. An abstract method is a method that has    a declaration but does not have an implementation.\n",
    "#  Abstract classes useful in situations where a third-party is going to provide implementations, such as with plugins.\n",
    "#  Python does not provide abstract classes. Python comes with a module that provides the base for defining Abstract Base classes(ABC) and that module name is ABC."
   ]
  },
  {
   "cell_type": "code",
   "execution_count": 5,
   "id": "b587c424",
   "metadata": {},
   "outputs": [
    {
     "name": "stdout",
     "output_type": "stream",
     "text": [
      " you will learn python course in this section\n",
      " you will learn SQL course in this section\n"
     ]
    }
   ],
   "source": [
    "# Example \n",
    "\n",
    "from abc import ABC    ## import abstract class module ##\n",
    "\n",
    "class ineuron(ABC):     ## Abstract class ##\n",
    "    \n",
    "    def course_name(self):  ## un implemented function ##\n",
    "        pass\n",
    "    \n",
    "class python(ineuron):\n",
    "\n",
    "    def course_name(self):  ## overriding abstract method ##\n",
    "        print(\" you will learn python course in this section\")  ## implemented function ##\n",
    "        \n",
    "class SQL(ineuron):\n",
    "\n",
    "    def course_name(self):   ## overriding abstract method ##\n",
    "        print(\" you will learn SQL course in this section\")  ## implemented function ##\n",
    "\n",
    "        \n",
    "# output fuction 1\n",
    "details = python()\n",
    "details.course_name()\n",
    "\n",
    "# output fuction 2\n",
    "details = SQL()\n",
    "details.course_name()\n"
   ]
  },
  {
   "cell_type": "code",
   "execution_count": 6,
   "id": "985cc259",
   "metadata": {},
   "outputs": [],
   "source": [
    "# (ii) multiple_inheritance:"
   ]
  },
  {
   "cell_type": "code",
   "execution_count": 7,
   "id": "b1f30492",
   "metadata": {},
   "outputs": [],
   "source": [
    "# A class can be derived from more than one base class is called multiple inheritance.\n",
    "# It is a hierarchical process that leads to reusability of a code, higher performance and flexibility.\n",
    "# multiple inheritance has its own disadvantages like increased complexity, more chances of ambiguity.\n",
    "# Syntax : class Subclass(Superclass1, Superclass2,..., SuperclassN):"
   ]
  },
  {
   "cell_type": "code",
   "execution_count": 8,
   "id": "0f32cc14",
   "metadata": {},
   "outputs": [
    {
     "name": "stdout",
     "output_type": "stream",
     "text": [
      "it is SQL database\n",
      "it is noSQL database\n"
     ]
    }
   ],
   "source": [
    "# Example \n",
    "\n",
    "class SQL:   ## child class1 ##\n",
    "\n",
    "   def display1(self):\n",
    "       print(\"it is SQL database\")\n",
    "\n",
    "class MONGODB:   ## child class2 ##\n",
    "\n",
    "   def display2(self):\n",
    "       print(\"it is noSQL database\")\n",
    "\n",
    "class DATABASE(SQL ,MONGODB):  ## parent class ##\n",
    "   pass\n",
    "\n",
    "# Output objects \n",
    "\n",
    "obj = DATABASE()\n",
    "obj.display1()\n",
    "obj.display2()"
   ]
  },
  {
   "cell_type": "code",
   "execution_count": 9,
   "id": "0016dc9c",
   "metadata": {},
   "outputs": [],
   "source": [
    "# (iii) decorators in python:"
   ]
  },
  {
   "cell_type": "code",
   "execution_count": null,
   "id": "330afb0b",
   "metadata": {},
   "outputs": [],
   "source": [
    "# by using decorators we can Add functionality to an existing function This is also called as metaprogramming.\n",
    "# A function can take a function as argument (the function to be decorated) and return the same function with or without     extension.\n",
    "# Decorators allow us to wrap another function in order to extend the behaviour of the wrapped function, without             permanently modifying it"
   ]
  },
  {
   "cell_type": "code",
   "execution_count": 10,
   "id": "81cf0d81",
   "metadata": {},
   "outputs": [
    {
     "name": "stdout",
     "output_type": "stream",
     "text": [
      "this is decorator function\n",
      "this is main function\n"
     ]
    }
   ],
   "source": [
    "# Example \n",
    "\n",
    "def dec_fun(function):   ## creating the decorator function ##\n",
    "    \n",
    "    def sub_fun():\n",
    "        print(\"this is decorator function\")\n",
    "        function()\n",
    "    return sub_fun\n",
    "\n",
    "@dec_fun    ## inserting the decorator function in main function ##\n",
    "def main_fun():\n",
    "    print(\"this is main function\")\n",
    "    \n",
    "main_fun()  ## output function ##"
   ]
  },
  {
   "cell_type": "code",
   "execution_count": null,
   "id": "9f52eb08",
   "metadata": {},
   "outputs": [],
   "source": []
  }
 ],
 "metadata": {
  "kernelspec": {
   "display_name": "Python 3 (ipykernel)",
   "language": "python",
   "name": "python3"
  },
  "language_info": {
   "codemirror_mode": {
    "name": "ipython",
    "version": 3
   },
   "file_extension": ".py",
   "mimetype": "text/x-python",
   "name": "python",
   "nbconvert_exporter": "python",
   "pygments_lexer": "ipython3",
   "version": "3.9.7"
  }
 },
 "nbformat": 4,
 "nbformat_minor": 5
}
